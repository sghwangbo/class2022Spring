{
  "nbformat": 4,
  "nbformat_minor": 0,
  "metadata": {
    "colab": {
      "name": "20220316.ipynb",
      "provenance": [],
      "authorship_tag": "ABX9TyMXJKNCJ23+gvFbkvVlaHlL",
      "include_colab_link": true
    },
    "kernelspec": {
      "name": "python3",
      "display_name": "Python 3"
    },
    "language_info": {
      "name": "python"
    }
  },
  "cells": [
    {
      "cell_type": "markdown",
      "metadata": {
        "id": "view-in-github",
        "colab_type": "text"
      },
      "source": [
        "<a href=\"https://colab.research.google.com/github/sghwangbo/class2022Spring/blob/main/20220316.ipynb\" target=\"_parent\"><img src=\"https://colab.research.google.com/assets/colab-badge.svg\" alt=\"Open In Colab\"/></a>"
      ]
    },
    {
      "cell_type": "markdown",
      "source": [
        "변수(variables)는 nubmers와 string이 있다. "
      ],
      "metadata": {
        "id": "bVNzMx5_ydQO"
      }
    },
    {
      "cell_type": "code",
      "metadata": {
        "id": "goAyoU7vRheI",
        "outputId": "617dbe39-a7a5-4794-ab91-01299abb0b0e",
        "colab": {
          "base_uri": "https://localhost:8080/"
        }
      },
      "source": [
        "a = 1; print(type(a))  #a는 1이라는 의미이고, print(a)는 a를 출력하라는 것이다. \n",
        "                        #변수는 두가지인데 숫자중에서도 여러가지가 있을 수도 있다. \n",
        "                      #그럴 때 이 변수 a의 type이 무엇인지 출력하라는 것이 print(type(a))이다.\n",
        "                      #이 때, a의 type은 int이다.\n",
        "print(a)"
      ],
      "execution_count": 4,
      "outputs": [
        {
          "output_type": "stream",
          "name": "stdout",
          "text": [
            "<class 'int'>\n",
            "1\n"
          ]
        }
      ]
    },
    {
      "cell_type": "code",
      "metadata": {
        "id": "txxnoqJuRheJ",
        "outputId": "274a30e7-c77c-4b65-8223-d4a9c1ab61ae",
        "colab": {
          "base_uri": "https://localhost:8080/"
        }
      },
      "source": [
        "a = 1.1; print(type(a))     #a가 1.1로 소숫값을 가지는 숫자인데 이의 타입은 float이다."
      ],
      "execution_count": 5,
      "outputs": [
        {
          "output_type": "stream",
          "name": "stdout",
          "text": [
            "<class 'float'>\n"
          ]
        }
      ]
    },
    {
      "cell_type": "code",
      "metadata": {
        "id": "SyP0PB86RheL",
        "outputId": "477846e6-8024-495f-fa42-694960e38a23",
        "colab": {
          "base_uri": "https://localhost:8080/"
        }
      },
      "source": [
        "a = '123'; print(type(a)); print(a[1])  #일련의 숫자나 문자들의 나열을 작은 따옴표로 묶은 이 묶음의 type은 str이다. \n",
        "                                      # a[1] 은 a의 1번째를 의미하는데, 순서는 0부터 시작한다. \n",
        "                                      #따라서, 0번째가 1이고 1번째가 2이기 때문에 print(a[1])은 2를 출력한다."
      ],
      "execution_count": 6,
      "outputs": [
        {
          "output_type": "stream",
          "name": "stdout",
          "text": [
            "<class 'str'>\n",
            "2\n"
          ]
        }
      ]
    },
    {
      "cell_type": "code",
      "metadata": {
        "id": "EKYj0dvIHPo0",
        "outputId": "a1237ded-1b0a-4ec6-e393-09846b2194a5",
        "colab": {
          "base_uri": "https://localhost:8080/"
        }
      },
      "source": [
        "a = 'hello'; print(type(a)); print(a[1]) #앞서 본 '123'과 같이 type 은 str이다. \n",
        "                                        #그리고 이 a인 hello의 1번째에 속하는 것은 0번째인 h 다음의 e이다."
      ],
      "execution_count": null,
      "outputs": [
        {
          "output_type": "stream",
          "name": "stdout",
          "text": [
            "<class 'str'>\n",
            "e\n"
          ]
        }
      ]
    },
    {
      "cell_type": "code",
      "metadata": {
        "id": "Df6PhU-tHXr2",
        "outputId": "3e99729c-3214-4756-e692-1522f494a01e",
        "colab": {
          "base_uri": "https://localhost:8080/"
        }
      },
      "source": [
        "a = [1, 2, 3, 4]; print(type(a)); print(a[0])  #여러 변수들이 나열되어 있는 것의 type은 list 이다. 이때, 여러개는 대괄호로 나열한다."
      ],
      "execution_count": null,
      "outputs": [
        {
          "output_type": "stream",
          "name": "stdout",
          "text": [
            "<class 'list'>\n",
            "1\n"
          ]
        }
      ]
    },
    {
      "cell_type": "code",
      "metadata": {
        "id": "DfS-gknCRheL",
        "outputId": "ff76fc0a-73db-43fc-bb86-946381a6cb4d",
        "colab": {
          "base_uri": "https://localhost:8080/"
        }
      },
      "source": [
        "a = [1,'a', [3, '4']]; print(type(a)); print(a[0]); print(a[1]); print(a[2]); print(a[2][1])\n",
        "                 #이 때의 a도 list이고, print(a[2])의 경우 [3. '4']가 출력되는데\n",
        "                 #print(a[2][1])은 a 중에서도 2번째 그리고 그 중에서도 1번째를 의미하기에 \n",
        "                 #a 중에서 2번째는 [3, '4']이고, 이 [3. '4'] 중에서 첫번째는 4이다. "
      ],
      "execution_count": null,
      "outputs": [
        {
          "output_type": "stream",
          "name": "stdout",
          "text": [
            "<class 'list'>\n",
            "1\n",
            "a\n",
            "[3, '4']\n",
            "4\n"
          ]
        }
      ]
    },
    {
      "cell_type": "code",
      "metadata": {
        "id": "2sivfloGRheM",
        "outputId": "04ef0eb7-20e0-42f4-c014-5f9a5a569f8d",
        "colab": {
          "base_uri": "https://localhost:8080/"
        }
      },
      "source": [
        "a =\t{\"a\": \"apple\", \"b\": \"orange\", \"c\": 2014}  #dict은 a에 apple을, b에 orange를, c에 2014로 정의하는 것이다.\n",
        "print(type(a))   #이 때 이 a의 type은 dict이며\n",
        "print(a[\"a\"])    #이 a 속의 \"a\"는 \"apple\"로 정의되어 있기에 apple을 출력하게 된다.\n",
        " #dict는 key와 value로 되어있는데 각각 앞의 것이 key 뒤의 것이 value이며 key를 출력하려고 하면 value가 출력된다. "
      ],
      "execution_count": 9,
      "outputs": [
        {
          "output_type": "stream",
          "name": "stdout",
          "text": [
            "<class 'dict'>\n",
            "apple\n"
          ]
        }
      ]
    },
    {
      "cell_type": "markdown",
      "source": [
        "String 관련"
      ],
      "metadata": {
        "id": "wAtZlc2wsFE9"
      }
    },
    {
      "cell_type": "code",
      "metadata": {
        "id": "zwpWU02YmAur",
        "outputId": "f181d85d-17a2-4571-e914-3d332031f533"
      },
      "source": [
        "s = 'abcdef'\n",
        "print(s[0], s[5], s[-1], s[-6])  #s의 0번째, 5번째, 뒤에서 첫번째, 뒤에서 6번째 출력하라는 것이다.\n",
        "print(s[1:3], s[1:], s[:3], s[:]) #각각 s의 1번째에서 3번째, 1번째에서 끝까지, 처음부터 3번째의 전까지(2번째까지), 처음부터 끝까지 이다."
      ],
      "execution_count": null,
      "outputs": [
        {
          "name": "stdout",
          "output_type": "stream",
          "text": [
            "<class 'str'>\n",
            "a f f a\n",
            "bc bcdef abc abcdef\n"
          ]
        }
      ]
    },
    {
      "cell_type": "code",
      "metadata": {
        "id": "mpkdZBeWmAux",
        "outputId": "a5f03d66-f3c7-4ac5-bb23-d4ee9780172d"
      },
      "source": [
        "n = [100, 200, 300]\n",
        "print(n[0], n[2], n[-1], n[-3])  #n이 list인데 이 중에서 0번째, 2번째, 뒤에서 첫번째, 뒤에서 세번째를 출력하라는 것.\n",
        "print(n[1:2], n[1:], n[:2], n[:])  #n의 1번째부터 2번째까지, 1번째부터 끝까지, 처음부터 2번째 이전까지, 처음부터 끝까지 출력하라는 것."
      ],
      "execution_count": null,
      "outputs": [
        {
          "name": "stdout",
          "output_type": "stream",
          "text": [
            "100 300 300 100\n",
            "[200] [200, 300] [100, 200] [100, 200, 300]\n"
          ]
        }
      ]
    },
    {
      "cell_type": "code",
      "metadata": {
        "id": "ulnefmnFmAuy",
        "outputId": "013b6af1-433f-4d95-e343-71631a426f84"
      },
      "source": [
        "len(s)  #s의 길이를 묻는 것이다. len이라는 함수는 그 길이를 묻는 것."
      ],
      "execution_count": null,
      "outputs": [
        {
          "data": {
            "text/plain": [
              "6"
            ]
          },
          "execution_count": 4,
          "metadata": {},
          "output_type": "execute_result"
        }
      ]
    },
    {
      "cell_type": "code",
      "metadata": {
        "id": "a45rgiNMmAuy",
        "outputId": "9b1a4417-a513-4f77-8ae9-64352e6da015"
      },
      "source": [
        "s[1]+s[3]+s[4:]*10  #s의 1번째, 3번째를 나타내고 4번째부터 끝까지인 경우를 10번 반복하라는 것이다."
      ],
      "execution_count": null,
      "outputs": [
        {
          "data": {
            "text/plain": [
              "'bdefefefefefefefefefef'"
            ]
          },
          "execution_count": 5,
          "metadata": {},
          "output_type": "execute_result"
        }
      ]
    },
    {
      "cell_type": "code",
      "metadata": {
        "id": "IevwoMpmmAuz",
        "outputId": "69636955-73a9-49f7-ea43-efdb38a982c1"
      },
      "source": [
        "s.upper()   #s에 속하는 것들을 대문자로 바꾸라는 것이다."
      ],
      "execution_count": null,
      "outputs": [
        {
          "data": {
            "text/plain": [
              "'ABCDEF'"
            ]
          },
          "execution_count": 7,
          "metadata": {},
          "output_type": "execute_result"
        }
      ]
    },
    {
      "cell_type": "code",
      "metadata": {
        "id": "LRU0Yt1amAuz",
        "outputId": "3fdbe8c7-9962-40ba-f624-2ac1aa2c7e44"
      },
      "source": [
        "s = ' this is a house built this year.\\n' \t#s에 이 문장을 입력하는 것이다.\n",
        "s          #이 셀의 맨 마지막에 s가 있기 때문에 print를 안써도 출력하는 것이다. 중간에 있으면 print하는 효과가 없다."
      ],
      "execution_count": null,
      "outputs": [
        {
          "data": {
            "text/plain": [
              "' this is a house built this year.\\n'"
            ]
          },
          "execution_count": 10,
          "metadata": {},
          "output_type": "execute_result"
        }
      ]
    },
    {
      "cell_type": "code",
      "metadata": {
        "id": "nMHteyDfmAu0",
        "outputId": "2f55caa2-dd53-4fac-e876-05ca87c5d63d"
      },
      "source": [
        "result = s.find('house') \t    # index of first instance of string t inside s (-1 if not found)\n",
        "result                           #house가 처음부터 몇번째에 나타나냐는 것. 0번째부터 센다."
      ],
      "execution_count": null,
      "outputs": [
        {
          "data": {
            "text/plain": [
              "11"
            ]
          },
          "execution_count": 11,
          "metadata": {},
          "output_type": "execute_result"
        }
      ]
    },
    {
      "cell_type": "code",
      "metadata": {
        "id": "gv82JUX7mAu0",
        "outputId": "18540837-5eb4-4cea-f087-2f7fd1581afa"
      },
      "source": [
        "result = s.find('this')\t      # index of first instance of string t inside s (-1 if not found)\n",
        "result                            #this가 처음부터 몇번째에 처음으로 나타나냐는 것."
      ],
      "execution_count": null,
      "outputs": [
        {
          "data": {
            "text/plain": [
              "1"
            ]
          },
          "execution_count": 12,
          "metadata": {},
          "output_type": "execute_result"
        }
      ]
    },
    {
      "cell_type": "code",
      "metadata": {
        "id": "ua3TjwLcmAu2",
        "outputId": "ac192f91-46ce-4ff0-a040-f0d63541124e"
      },
      "source": [
        "s = s.strip()      \t          # a copy of s without leading or trailing whitespace #s에 strip이라는 함수를 담아냈다.\n",
        "s                          #앞 뒤의 빈 공간을 없애라는 것. 그리고 젤 처음이나 끝의 문장부호나 빈 공간을 없애주는 것."
      ],
      "execution_count": null,
      "outputs": [
        {
          "data": {
            "text/plain": [
              "'this is a house built this year.'"
            ]
          },
          "execution_count": 14,
          "metadata": {},
          "output_type": "execute_result"
        }
      ]
    },
    {
      "cell_type": "code",
      "metadata": {
        "id": "l37g5DqQmAu2",
        "outputId": "c1eefe2c-0edc-4678-c67b-b8306ca13471"
      },
      "source": [
        "tokens = s.split(' ')\t        # split s into a list wherever a t is found (whitespace by default) #s에 split이라는 함수를 담아냄.\n",
        "tokens                        #list를 공백 단위로 나누라는 것. 빈칸을 포함하지는 않는다. "
      ],
      "execution_count": null,
      "outputs": [
        {
          "data": {
            "text/plain": [
              "['this', 'is', 'a', 'house', 'built', 'this', 'year.']"
            ]
          },
          "execution_count": 15,
          "metadata": {},
          "output_type": "execute_result"
        }
      ]
    },
    {
      "cell_type": "code",
      "metadata": {
        "id": "64sewKE8mAu2",
        "outputId": "e2e8dc1f-6b83-41ef-b746-7712099f2776"
      },
      "source": [
        "s = ' '.join(tokens)\t        # combine the words of the text into a string using s as the glue \n",
        "s                                #각 텍스트들을 하나의 string으로 묶으라는 것이다. 빈칸을 이용해서 list를 하나의 문장으로 묶는다."
      ],
      "execution_count": null,
      "outputs": [
        {
          "data": {
            "text/plain": [
              "'this is a house built this year.'"
            ]
          },
          "execution_count": 16,
          "metadata": {},
          "output_type": "execute_result"
        }
      ]
    },
    {
      "cell_type": "code",
      "metadata": {
        "id": "jfiqbBiImAu3",
        "outputId": "13300aff-f13a-4f48-c6ec-cbc5d01dd55b"
      },
      "source": [
        "s = s.replace('this', 'that') # replace instances of t with u inside s\n",
        "s                              #s 속의 this를 that으로 바꾸라는 것이다."
      ],
      "execution_count": null,
      "outputs": [
        {
          "data": {
            "text/plain": [
              "'that is a house built that year.'"
            ]
          },
          "execution_count": 17,
          "metadata": {},
          "output_type": "execute_result"
        }
      ]
    },
    {
      "cell_type": "markdown",
      "source": [
        "function 관련"
      ],
      "metadata": {
        "id": "E0aR_Tf5uzmI"
      }
    },
    {
      "cell_type": "code",
      "metadata": {
        "id": "hpc_mhgAye2S"
      },
      "source": [
        "def add(a,b):            # def을 적고 함수이름을 적고 입력값(변수)을 괄호 안에 넣고 그 함수 정의에 대한 내용을 return 뒤에 기입한다.\n",
        "  return a+b              #함수명을 정의하는 것이다. \n",
        "\n",
        "def subtract(a,b):    # def을 적고 함수이름을 적고 입력값(변수)을 괄호 안에 넣고 그 함수 정의에 대한 내용을 return 뒤에 기입한다.\n",
        "  return a-b\n",
        "\n",
        "def multiply(a,b):    # def을 적고 함수이름을 적고 입력값(변수)을 괄호 안에 넣고 그 함수 정의에 대한 내용을 return 뒤에 기입한다.\n",
        "  return a*b\n",
        "\n",
        "def divide(a,b):     # def을 적고 함수이름을 적고 입력값(변수)을 괄호 안에 넣고 그 함수 정의에 대한 내용을 return 뒤에 기입한다.\n",
        "  return a/b"
      ],
      "execution_count": 1,
      "outputs": []
    },
    {
      "cell_type": "code",
      "metadata": {
        "colab": {
          "base_uri": "https://localhost:8080/"
        },
        "id": "8Y4oa05Eykn4",
        "outputId": "7e186590-61dc-49a9-e22f-0bcb617fd3b7"
      },
      "source": [
        "c = add(1,2); print(c)          #앞서 만들어낸 add함수를 이용해서 입력값 1,2에 대한 1+2 값인 c를 출력할 수 있다.\n",
        "c = subtract(1,2); print(c)        #앞서 만들어낸 subtract함수를 이용해서 입력값 1,2에 대한 1-2 값인 c를 출력할 수 있다.\n",
        "c = multiply(1,2); print(c)        #앞서 만들어낸 multiply함수를 이용해서 입력값 1,2에 대한 1*2 값인 c를 출력할 수 있다. \n",
        "c = divide(1,2); print(c)         #앞서 만들어낸 divde함수를 이용해서 입력값 1,2에 대한 1/2 값인 c를 출력할 수 있다."
      ],
      "execution_count": null,
      "outputs": [
        {
          "output_type": "stream",
          "text": [
            "3\n",
            "-1\n",
            "2\n",
            "0.5\n"
          ],
          "name": "stdout"
        }
      ]
    },
    {
      "cell_type": "markdown",
      "source": [
        "syntax 관련\n",
        "words는 변수이다.\n",
        "syntax는 반복문과 조건문이 있다. 반복문에는 for 조건문에는 if가 대표적이다."
      ],
      "metadata": {
        "id": "lzb1o4Ehq7Yk"
      }
    },
    {
      "cell_type": "code",
      "metadata": {
        "id": "Fu2mzgrqSLAU",
        "outputId": "283876b5-0fc9-4961-d92d-d242b3c222de"
      },
      "source": [
        "a = [1, 2, 3, 4]        #for in : 구성에서 그 다음 문장은 띄어서 쓰여져야 한다.\n",
        "for i in a:             #a에 있는 것들을 i로 하나하나씩 처음부터 받아서 i에 넣고 돌리는 것이다. \n",
        "    print(i)"
      ],
      "execution_count": null,
      "outputs": [
        {
          "output_type": "stream",
          "text": [
            "1\n",
            "2\n",
            "3\n",
            "4\n"
          ],
          "name": "stdout"
        }
      ]
    },
    {
      "cell_type": "code",
      "metadata": {
        "id": "XSJxLJVCSLAW",
        "outputId": "d1e9cc0d-9f19-4be8-f502-85250a576350",
        "colab": {
          "base_uri": "https://localhost:8080/"
        }
      },
      "source": [
        "a = [1, 2, 3, 4]\n",
        "for i in range(len(a)):  #range 다음에 4를 쓴 것이나 다름없다. \n",
        "                        #len은 길이를 나타내므로 길이는 4이다. range(4)가 만드는 것은 [0,1,2,3]의 list를 만드는 것이나 다름없다.\n",
        "    print(a[i])"
      ],
      "execution_count": 2,
      "outputs": [
        {
          "output_type": "stream",
          "name": "stdout",
          "text": [
            "1\n",
            "2\n",
            "3\n",
            "4\n"
          ]
        }
      ]
    },
    {
      "cell_type": "code",
      "metadata": {
        "id": "VTfxVRdgSLAW",
        "outputId": "7b430ba8-015e-4296-c883-ce2b3f9ed43b"
      },
      "source": [
        "a = ['red', 'green', 'blue', 'purple']\n",
        "for i in a:             #i에 a를 순서대로 처음부터 넣는 것이다.\n",
        "    print(i)               #그렇게 a가 들어간 i를 순서대로 print한다."
      ],
      "execution_count": null,
      "outputs": [
        {
          "output_type": "stream",
          "text": [
            "red\n",
            "green\n",
            "blue\n",
            "purple\n"
          ],
          "name": "stdout"
        }
      ]
    },
    {
      "cell_type": "code",
      "metadata": {
        "id": "Vc-7pW85SLAW",
        "outputId": "9394e177-c8c8-44db-ff28-1e9566072bb3"
      },
      "source": [
        "a = ['red', 'green', 'blue', 'purple']\n",
        "for i in range(len(a)):          #len(a)는 a의 길이인 4이다. 그렇기에 [0,1,2,3]의 list가 만들어짐으로 인해 이를 i로 입력한다.\n",
        "    print(a[i])            #그렇게 입력된 i를 a[i]에 넣음으로 인해서 a에서 0번째, 1번째, 2번째, 3번째를 순서대로 출력한다."
      ],
      "execution_count": null,
      "outputs": [
        {
          "output_type": "stream",
          "text": [
            "red\n",
            "green\n",
            "blue\n",
            "purple\n"
          ],
          "name": "stdout"
        }
      ]
    },
    {
      "cell_type": "code",
      "metadata": {
        "id": "dD-ephD3SLAX",
        "outputId": "69d729f8-996a-41be-d84b-f1bd2a7c809c"
      },
      "source": [
        "a = 0\n",
        "if a == 0:\n",
        "    print(a)        #a가 0이라면 a를 출력하고 #a가 0이 아니라면 if a != 0: 을 이용한다.\n",
        "else:               \n",
        "    print(a+1)       #그렇지 않다면 a에 +1하여 출력하라는 것이다."
      ],
      "execution_count": null,
      "outputs": [
        {
          "output_type": "stream",
          "text": [
            "0\n"
          ],
          "name": "stdout"
        }
      ]
    },
    {
      "cell_type": "code",
      "metadata": {
        "id": "M0AZaDMvSLAY",
        "outputId": "b25a5fe6-defa-4549-85b0-0c146ff7a2a0"
      },
      "source": [
        "for i in range(1, 3):      #1부터 3의 이전까지 i에 넣는 것이기에 1,2를 넣는다.\n",
        "    for j in range(3, 5):   #3부터 5의 이전까지 j에 넣는 것이기에 3,4를 넣는다.\n",
        "        print(i*j)          #그렇게 된다면 1*3, 1*4, 2*3, 2*4 의 출력값이 나온다."
      ],
      "execution_count": null,
      "outputs": [
        {
          "output_type": "stream",
          "text": [
            "3\n",
            "4\n",
            "6\n",
            "8\n"
          ],
          "name": "stdout"
        }
      ]
    },
    {
      "cell_type": "code",
      "metadata": {
        "id": "ZPpZmVIHSLAY",
        "outputId": "0bbcc529-c1d8-4774-e1ad-9de8b9e065ce"
      },
      "source": [
        "for i in range(1, 3):     #1부터 3의 이전까지 i에 넣는 것이기에 1,2를 넣는다.\n",
        "    for j in range(3, 5):  #3부터 5의 이전까지 i에 넣는 것이기에 3,4를 넣는다.\n",
        "        if j >=4:         #j가 4이상인 경우에서만 i*j를 출력하라는 것이다.\n",
        "            print(i*j)    #그렇기에 1*4와 2*4의 값만이 출력된다."
      ],
      "execution_count": null,
      "outputs": [
        {
          "output_type": "stream",
          "text": [
            "4\n",
            "8\n"
          ],
          "name": "stdout"
        }
      ]
    },
    {
      "cell_type": "code",
      "metadata": {
        "id": "JQXk5vi0SLAY",
        "outputId": "cd3306f3-6d6d-446e-dd4a-f7f4e11dd967"
      },
      "source": [
        "a = [1, 2, 3, 4]\n",
        "b = [i for i in a if i >=2]   # a를 차례대로 i에 넣고 i가 2이상이면 i에 넣고 이 i를 출력하는 것이 b이다.\n",
        "b                    "
      ],
      "execution_count": null,
      "outputs": [
        {
          "output_type": "execute_result",
          "data": {
            "text/plain": [
              "[2, 3, 4]"
            ]
          },
          "metadata": {
            "tags": []
          },
          "execution_count": 12
        }
      ]
    },
    {
      "cell_type": "code",
      "metadata": {
        "id": "MDmBGZ3LSLAZ",
        "outputId": "bd06f885-7334-43d9-d92d-848c615f6771"
      },
      "source": [
        "a = ['red', 'green', 'blue', 'purple']\n",
        "b = [i for i in a if len(i) >=4]    #a를 차례대로 i로 넣고 길이가 4이상인 것만을 i에 넣고 이를 출력하는 것이 b이다.\n",
        "b"
      ],
      "execution_count": null,
      "outputs": [
        {
          "output_type": "execute_result",
          "data": {
            "text/plain": [
              "['green', 'blue', 'purple']"
            ]
          },
          "metadata": {
            "tags": []
          },
          "execution_count": 13
        }
      ]
    },
    {
      "cell_type": "code",
      "source": [
        "a = ['red', 'green', 'blue', 'purple']\n",
        "b = [1, 2, 3, 4]\n",
        "c = {a[i]:b[i] for i in range(4)}     #range(4)이기에 [0,1,2,3] 이 만들어 지는 것이고 이를 차례대로 넣으면\n",
        "c                           #a[1]:b[2], a[2]:b[2], a[3]:b[3]. a[4],b[4]가 출력된다. "
      ],
      "metadata": {
        "id": "Z6JMoDOHu48B",
        "outputId": "2bf14607-9cf5-40be-d60b-b7cbda48c2a8",
        "colab": {
          "base_uri": "https://localhost:8080/"
        }
      },
      "execution_count": null,
      "outputs": [
        {
          "output_type": "execute_result",
          "data": {
            "text/plain": [
              "{'blue': 3, 'green': 2, 'purple': 4, 'red': 1}"
            ]
          },
          "metadata": {},
          "execution_count": 17
        }
      ]
    },
    {
      "cell_type": "markdown",
      "source": [
        "import 관련"
      ],
      "metadata": {
        "id": "wUuzYc5AzQkX"
      }
    },
    {
      "cell_type": "code",
      "metadata": {
        "id": "JXicrkYOzPRo"
      },
      "source": [
        "import numpy as np   #numpy라는 함수를 np라는 명칭으로 가져오는 것이다.\n",
        "n = np.random.randn(100)   #n을 np안의 random 안의 randn이라는 함수로 지정하는 것이며 randn은 100개의 숫자를 임의로 뽑는 것이다."
      ],
      "execution_count": 5,
      "outputs": []
    },
    {
      "cell_type": "code",
      "metadata": {
        "id": "oKT4vn4MwyLA",
        "colab": {
          "base_uri": "https://localhost:8080/",
          "height": 356
        },
        "outputId": "a4d4f31c-5b9e-43aa-afbe-bc74dd15dbea"
      },
      "source": [
        "import matplotlib    #matplotlib이라는 함수를 가져오라는 것이다.\n",
        "matplotlib.pyplot.hist(n)    #matplotlib이라는 함수 안에 pyplot이라는 함수 안에 hist라는 함수를 통해 n을 이에 기입한다."
      ],
      "execution_count": 7,
      "outputs": [
        {
          "output_type": "execute_result",
          "data": {
            "text/plain": [
              "(array([ 4.,  3.,  5., 14., 13., 24., 25., 10.,  1.,  1.]),\n",
              " array([-2.48482436, -1.98593313, -1.4870419 , -0.98815068, -0.48925945,\n",
              "         0.00963178,  0.50852301,  1.00741423,  1.50630546,  2.00519669,\n",
              "         2.50408791]),\n",
              " <a list of 10 Patch objects>)"
            ]
          },
          "metadata": {},
          "execution_count": 7
        },
        {
          "output_type": "display_data",
          "data": {
            "text/plain": [
              "<Figure size 432x288 with 1 Axes>"
            ],
            "image/png": "[encoded data removed]"
          },
          "metadata": {
            "needs_background": "light"
          }
        }
      ]
    },
    {
      "cell_type": "code",
      "metadata": {
        "colab": {
          "base_uri": "https://localhost:8080/",
          "height": 356
        },
        "id": "zQJ4LnbA-Hvz",
        "outputId": "efd5f56f-de3d-43bf-d996-08aa6826c16e"
      },
      "source": [
        "import matplotlib.pyplot    #matplotlib안의 pyplot이라는 함수를 불러오는 것이다.\n",
        "matplotlib.pyplot.hist(n)   #matplotlib안의 pyplot 안의 hist 라는 함수를 불러오는 것이며 이에 입력값으로 n을 넣는 것이다."
      ],
      "execution_count": 8,
      "outputs": [
        {
          "output_type": "execute_result",
          "data": {
            "text/plain": [
              "(array([ 4.,  3.,  5., 14., 13., 24., 25., 10.,  1.,  1.]),\n",
              " array([-2.48482436, -1.98593313, -1.4870419 , -0.98815068, -0.48925945,\n",
              "         0.00963178,  0.50852301,  1.00741423,  1.50630546,  2.00519669,\n",
              "         2.50408791]),\n",
              " <a list of 10 Patch objects>)"
            ]
          },
          "metadata": {},
          "execution_count": 8
        },
        {
          "output_type": "display_data",
          "data": {
            "text/plain": [
              "<Figure size 432x288 with 1 Axes>"
            ],
            "image/png": "[encoded data removed]"
          },
          "metadata": {
            "needs_background": "light"
          }
        }
      ]
    },
    {
      "cell_type": "code",
      "metadata": {
        "id": "AWU6awi53c07",
        "outputId": "904255b8-d142-4111-a471-1e393f11a69f",
        "colab": {
          "base_uri": "https://localhost:8080/",
          "height": 356
        }
      },
      "source": [
        "import matplotlib.pyplot as plt   #matplotlib안의 pyplot이라는 함수를 plt로 가져오는 것이다.   \n",
        "plt.hist(n)   #앞서 plt로 가져온 함수 안의 hist라는 함수를 이용하는 것이다."
      ],
      "execution_count": 9,
      "outputs": [
        {
          "output_type": "execute_result",
          "data": {
            "text/plain": [
              "(array([ 4.,  3.,  5., 14., 13., 24., 25., 10.,  1.,  1.]),\n",
              " array([-2.48482436, -1.98593313, -1.4870419 , -0.98815068, -0.48925945,\n",
              "         0.00963178,  0.50852301,  1.00741423,  1.50630546,  2.00519669,\n",
              "         2.50408791]),\n",
              " <a list of 10 Patch objects>)"
            ]
          },
          "metadata": {},
          "execution_count": 9
        },
        {
          "output_type": "display_data",
          "data": {
            "text/plain": [
              "<Figure size 432x288 with 1 Axes>"
            ],
            "image/png": "[encoded data removed]"
          },
          "metadata": {
            "needs_background": "light"
          }
        }
      ]
    },
    {
      "cell_type": "markdown",
      "source": [
        "## from import를 쓰면 import as처럼 축약해서 부를 수 있는 효과"
      ],
      "metadata": {
        "id": "v1zA2xRWzpdu"
      }
    },
    {
      "cell_type": "code",
      "metadata": {
        "colab": {
          "base_uri": "https://localhost:8080/",
          "height": 350
        },
        "id": "moIjn3Kv-Hqy",
        "outputId": "4b1e3880-1576-4b63-b4d0-192704221a8d"
      },
      "source": [
        "from matplotlib import pyplot    #matplotlib로부터 pyplot이라는 함수를 가져오는 것이다.\n",
        "pyplot.hist(n)    #pyplot안에 hist라는 함수를 이용하는 것이다."
      ],
      "execution_count": null,
      "outputs": [
        {
          "output_type": "execute_result",
          "data": {
            "text/plain": [
              "(array([ 3.,  4.,  9., 11., 26., 19., 16., 10.,  1.,  1.]),\n",
              " array([-2.51307585, -1.99199295, -1.47091005, -0.94982715, -0.42874425,\n",
              "         0.09233865,  0.61342155,  1.13450445,  1.65558734,  2.17667024,\n",
              "         2.69775314]),\n",
              " <a list of 10 Patch objects>)"
            ]
          },
          "metadata": {},
          "execution_count": 11
        },
        {
          "output_type": "display_data",
          "data": {
            "image/png": "[encoded data removed]",
            "text/plain": [
              "<Figure size 432x288 with 1 Axes>"
            ]
          },
          "metadata": {
            "needs_background": "light"
          }
        }
      ]
    },
    {
      "cell_type": "code",
      "metadata": {
        "colab": {
          "base_uri": "https://localhost:8080/",
          "height": 350
        },
        "id": "ORo259i7_Uqi",
        "outputId": "8faa9ebd-66ff-4f86-e588-f114023e649d"
      },
      "source": [
        "from matplotlib.pyplot import hist   #matplotllib안의 pyplot이라는 함수로부터 hist라는 함수를 가져오는 것이다\n",
        "hist(n)   #가져온 hist라는 함수를 사용하는 것이다."
      ],
      "execution_count": null,
      "outputs": [
        {
          "output_type": "execute_result",
          "data": {
            "text/plain": [
              "(array([ 3.,  4.,  9., 11., 26., 19., 16., 10.,  1.,  1.]),\n",
              " array([-2.51307585, -1.99199295, -1.47091005, -0.94982715, -0.42874425,\n",
              "         0.09233865,  0.61342155,  1.13450445,  1.65558734,  2.17667024,\n",
              "         2.69775314]),\n",
              " <a list of 10 Patch objects>)"
            ]
          },
          "metadata": {},
          "execution_count": 14
        },
        {
          "output_type": "display_data",
          "data": {
            "image/png": "[encoded data removed]",
            "text/plain": [
              "<Figure size 432x288 with 1 Axes>"
            ]
          },
          "metadata": {
            "needs_background": "light"
          }
        }
      ]
    },
    {
      "cell_type": "markdown",
      "source": [
        "numpy_matplotlib 관련"
      ],
      "metadata": {
        "id": "gzN3Z3lQ18Ln"
      }
    },
    {
      "cell_type": "markdown",
      "metadata": {
        "id": "JcCdLoe_4bY7"
      },
      "source": [
        "### create nd arrays (≈matrices)"
      ]
    },
    {
      "cell_type": "code",
      "metadata": {
        "id": "5ap7xyofShBB"
      },
      "source": [
        "import numpy as np   #numpy를 np로서 가져오라는 것이다."
      ],
      "execution_count": null,
      "outputs": []
    },
    {
      "cell_type": "code",
      "metadata": {
        "id": "2rqpSPZCShBC",
        "colab": {
          "base_uri": "https://localhost:8080/"
        },
        "outputId": "8a4d14a6-b816-432a-caae-902c8c640f33"
      },
      "source": [
        "x = np.array([1,2,3])    #np안의 array라는 함수 속에 list를 넣는 것이다. 이를 x로 지정한다.\n",
        "print(x)                 \n",
        "print(type(x))           #이 x의 type은 numpy.ndarrady이다. class는 특수한 변수라고 보면 되는 것이다.\n",
        "print(x.shape)           #이것의 shape을 보자는 것인데. 이를 print하면 3, 라고 나온다. 세개짜리 1차원 ndarray가 나오는 것이다."
      ],
      "execution_count": null,
      "outputs": [
        {
          "output_type": "stream",
          "name": "stdout",
          "text": [
            "[1 2 3]\n",
            "<class 'numpy.ndarray'>\n",
            "(3,)\n"
          ]
        }
      ]
    },
    {
      "cell_type": "code",
      "metadata": {
        "id": "EjC88C75ShBC",
        "colab": {
          "base_uri": "https://localhost:8080/"
        },
        "outputId": "7143e4dd-2864-4b57-855e-56eb92a6bd75"
      },
      "source": [
        "x = np.arange(0,10,2)    #0에서 10까지(10을제외하고서) 2의 단위로 increment 증가하라는 것이다.\n",
        "print(x)\n",
        "print(type(x))\n",
        "print(x.shape)"
      ],
      "execution_count": null,
      "outputs": [
        {
          "output_type": "stream",
          "name": "stdout",
          "text": [
            "[0 2 4 6 8]\n",
            "<class 'numpy.ndarray'>\n",
            "(5,)\n"
          ]
        }
      ]
    },
    {
      "cell_type": "code",
      "metadata": {
        "id": "-MwkCEjTShBC",
        "colab": {
          "base_uri": "https://localhost:8080/"
        },
        "outputId": "11427674-886c-4f82-ca48-a1465f53223e"
      },
      "source": [
        "x = np.linspace(0,10,6)   #0에서 10을 까지 균등한 간격의 6개의 숫자를 뽑으라는 것이다.\n",
        "print(x)\n",
        "print(type(x))\n",
        "print(x.shape)"
      ],
      "execution_count": null,
      "outputs": [
        {
          "output_type": "stream",
          "name": "stdout",
          "text": [
            "[ 0.  2.  4.  6.  8. 10.]\n",
            "<class 'numpy.ndarray'>\n",
            "(6,)\n"
          ]
        }
      ]
    },
    {
      "cell_type": "code",
      "metadata": {
        "id": "tjk79SQ27fNv",
        "colab": {
          "base_uri": "https://localhost:8080/"
        },
        "outputId": "3ff3368b-6bb1-4664-933e-8504613780b1"
      },
      "source": [
        "x = np.array([[1,2,3], [4,5,6]])     \n",
        "print(x)\n",
        "print(type(x))\n",
        "print(x.shape)    #[1,2,3], [4,5,6]으로 2개가 나오고 그 속에 각각 3개씩 있기에 이것의 shape는 2,3이다."
      ],
      "execution_count": null,
      "outputs": [
        {
          "output_type": "stream",
          "name": "stdout",
          "text": [
            "[[1 2 3]\n",
            " [4 5 6]]\n",
            "<class 'numpy.ndarray'>\n",
            "(2, 3)\n"
          ]
        }
      ]
    },
    {
      "cell_type": "code",
      "metadata": {
        "id": "C1ogg6iZ7yir",
        "colab": {
          "base_uri": "https://localhost:8080/"
        },
        "outputId": "baf27f4e-10a7-40bb-82f4-bf470d8de90c"
      },
      "source": [
        "x = np.array([[[1,2,3], [4,5,6]], [[7,8,9], [10,11,12]]])\n",
        "print(x)\n",
        "print(type(x))\n",
        "print(x.shape)  #크게 두개로 나뉘어 지고 그 속에서 다시 두개씩 나뉘어지며 제일 작은 괄호 속에서 3개씩 있기에 2,2,3으로 shape이 출력된다."
      ],
      "execution_count": null,
      "outputs": [
        {
          "output_type": "stream",
          "name": "stdout",
          "text": [
            "[[[ 1  2  3]\n",
            "  [ 4  5  6]]\n",
            "\n",
            " [[ 7  8  9]\n",
            "  [10 11 12]]]\n",
            "<class 'numpy.ndarray'>\n",
            "(2, 2, 3)\n"
          ]
        }
      ]
    },
    {
      "cell_type": "code",
      "metadata": {
        "id": "efgeNHtD8ZlT",
        "colab": {
          "base_uri": "https://localhost:8080/"
        },
        "outputId": "047fb9dd-8c90-4dbf-9f12-35123bed1052"
      },
      "source": [
        "x = np.ones([2, 2, 3])    #shape이 2,2,3인 list에 모두 1을 넣어서 출력하는 함수를 x로 지정한 것이다.\n",
        "print(x)\n",
        "print(type(x))\n",
        "print(x.shape)"
      ],
      "execution_count": null,
      "outputs": [
        {
          "output_type": "stream",
          "name": "stdout",
          "text": [
            "[[[1. 1. 1.]\n",
            "  [1. 1. 1.]]\n",
            "\n",
            " [[1. 1. 1.]\n",
            "  [1. 1. 1.]]]\n",
            "<class 'numpy.ndarray'>\n",
            "(2, 2, 3)\n"
          ]
        }
      ]
    },
    {
      "cell_type": "code",
      "metadata": {
        "id": "b_F-ccY08zzl",
        "colab": {
          "base_uri": "https://localhost:8080/"
        },
        "outputId": "d56dd759-bbd1-48d5-d208-4a2084fe1cec"
      },
      "source": [
        "x = np.zeros([2, 2, 3])  #shape이 2,2,3인 lsit에 모두 0을 넣어서 출력하는 함수를 x로 지정한 것이다.\n",
        "print(x)\n",
        "print(type(x))\n",
        "print(x.shape)\n",
        "x.reshape(3,2,2)"
      ],
      "execution_count": null,
      "outputs": [
        {
          "output_type": "stream",
          "name": "stdout",
          "text": [
            "[[[0. 0. 0.]\n",
            "  [0. 0. 0.]]\n",
            "\n",
            " [[0. 0. 0.]\n",
            "  [0. 0. 0.]]]\n",
            "<class 'numpy.ndarray'>\n",
            "(2, 2, 3)\n"
          ]
        },
        {
          "output_type": "execute_result",
          "data": {
            "text/plain": [
              "array([[[0., 0.],\n",
              "        [0., 0.]],\n",
              "\n",
              "       [[0., 0.],\n",
              "        [0., 0.]],\n",
              "\n",
              "       [[0., 0.],\n",
              "        [0., 0.]]])"
            ]
          },
          "metadata": {},
          "execution_count": 27
        }
      ]
    },
    {
      "cell_type": "markdown",
      "metadata": {
        "id": "0hQuDJ5g9gpE"
      },
      "source": [
        "### create random numbers"
      ]
    },
    {
      "cell_type": "code",
      "source": [
        "np.random.normal(0, 1, [2,3,4])    #평균이0이고 표준편차가 1인 숫자들로서 shape이 2,3,4인 list를 출력하라는 것."
      ],
      "metadata": {
        "id": "pCVnElBgan70",
        "outputId": "9dcb75d9-d114-4c0b-b04f-6fe9d754277e",
        "colab": {
          "base_uri": "https://localhost:8080/"
        }
      },
      "execution_count": 10,
      "outputs": [
        {
          "output_type": "execute_result",
          "data": {
            "text/plain": [
              "array([[[-0.80205218, -1.40317749,  0.59515535, -0.47979644],\n",
              "        [-0.50817792, -0.81812238, -0.65929461,  1.67619006],\n",
              "        [-0.25284848, -0.49571805,  0.88851799, -2.61680107]],\n",
              "\n",
              "       [[ 1.64819983,  0.36809391,  2.22876356,  1.61788263],\n",
              "        [ 1.24455646, -0.85373341,  0.80835041, -1.92546819],\n",
              "        [ 0.54347357,  0.09498791, -0.54979318,  0.25206564]]])"
            ]
          },
          "metadata": {},
          "execution_count": 10
        }
      ]
    },
    {
      "cell_type": "code",
      "metadata": {
        "id": "QRatmkx79otL"
      },
      "source": [
        "import matplotlib.pyplot as plt        #matplotlib.pyplot을 plt로 가져오라는 것이다."
      ],
      "execution_count": null,
      "outputs": []
    },
    {
      "cell_type": "code",
      "metadata": {
        "id": "z1oOAB6dShBD",
        "colab": {
          "base_uri": "https://localhost:8080/",
          "height": 775
        },
        "outputId": "db329362-279b-4166-f67a-c2d40d28a0a5"
      },
      "source": [
        "x = np.random.normal(0, 1, 100)    #평균이 0이고 표준편차가 1인 100개의 임의의 숫자를 가져오는 함수를 x로 지정한 것이다.\n",
        "print(x)\n",
        "plt.hist(x, bins=10)           #이 x의 값들을 작대기 10개로 나타내는 것이다."
      ],
      "execution_count": null,
      "outputs": [
        {
          "output_type": "stream",
          "name": "stdout",
          "text": [
            "[-1.30410375e+00  2.81304056e-01 -6.68872336e-01 -1.64063589e-01\n",
            " -1.22158374e+00 -1.04653440e+00 -1.60460987e-01  7.24631153e-01\n",
            "  1.66127871e-01 -7.27988751e-01  1.63277291e-01  5.09236054e-01\n",
            " -1.98943416e-01 -1.46600112e+00  3.33479774e-01  1.60454386e-02\n",
            " -8.55730740e-02 -5.11190740e-01 -1.08187184e+00 -1.81470665e+00\n",
            "  9.02654879e-01  2.61542981e+00 -9.61451307e-01 -3.76245505e-01\n",
            "  1.10573440e+00 -2.90233466e-01  9.83471186e-01 -9.17783309e-01\n",
            " -6.85692679e-01  6.80350119e-01  3.02418935e-01 -6.67165338e-01\n",
            " -1.13758564e+00  5.51581315e-01  4.08377252e-01  2.41734447e-01\n",
            " -5.31870253e-01  2.46012558e+00  6.24542625e-02  3.04243491e+00\n",
            "  1.75779308e+00  1.52166416e+00  1.23817111e+00 -7.97803951e-01\n",
            "  3.90696889e-01 -6.19225451e-01  1.42304945e+00 -1.28138928e+00\n",
            "  1.05451851e+00  2.99641058e-01 -7.78909324e-01  2.55184996e-01\n",
            "  1.04213387e+00  4.01985262e+00  4.10956638e-02  9.72650554e-01\n",
            "  4.38663065e-01 -1.24154905e+00  4.68534855e-01  6.32756145e-01\n",
            "  8.42972324e-01 -1.69977165e+00  2.21320141e+00 -9.63472499e-01\n",
            "  6.40706441e-01  1.74025374e+00 -1.57992412e-01 -2.12527110e+00\n",
            " -3.41463121e-01 -5.23844235e-01  5.30544156e-01 -5.80984627e-01\n",
            "  3.95706884e-03 -1.23409175e+00 -6.23110796e-01  8.33769043e-01\n",
            " -1.39568461e+00 -2.23386940e-01  5.97831290e-01 -8.15726743e-02\n",
            "  1.36391643e-01 -6.62688401e-01  4.45915336e-01 -8.10861118e-01\n",
            " -2.91582565e-01  7.36019302e-01  1.59291496e+00 -8.13765805e-01\n",
            " -1.15831445e+00 -3.46717461e-01  5.96119975e-01 -1.09709991e+00\n",
            "  1.25127130e+00 -1.88386233e-01  1.79404880e+00  3.97428197e-01\n",
            "  2.39494165e-01  4.14585331e-01  5.97507814e-01 -3.59018225e-01]\n"
          ]
        },
        {
          "output_type": "execute_result",
          "data": {
            "text/plain": [
              "(array([ 3., 15., 21., 21., 22.,  9.,  4.,  3.,  1.,  1.]),\n",
              " array([-2.1252711 , -1.51075872, -0.89624635, -0.28173398,  0.33277839,\n",
              "         0.94729076,  1.56180314,  2.17631551,  2.79082788,  3.40534025,\n",
              "         4.01985262]),\n",
              " <a list of 10 Patch objects>)"
            ]
          },
          "metadata": {},
          "execution_count": 33
        },
        {
          "output_type": "display_data",
          "data": {
            "image/png": "[encoded data removed]",
            "text/plain": [
              "<Figure size 432x288 with 1 Axes>"
            ]
          },
          "metadata": {
            "needs_background": "light"
          }
        }
      ]
    },
    {
      "cell_type": "markdown",
      "metadata": {
        "id": "G0exvwBbShBE"
      },
      "source": [
        "### generate a sine curve"
      ]
    },
    {
      "cell_type": "code",
      "metadata": {
        "id": "HgQmRXzMShBE",
        "colab": {
          "base_uri": "https://localhost:8080/",
          "height": 283
        },
        "outputId": "a854c211-9afe-48bc-b119-f73c05cae33a"
      },
      "source": [
        "plt.figure()\n",
        "\n",
        "theta1 = np.linspace(0, 2*np.pi, 100)     #0도에서 360도(2파이)까지 균등하게 100개의 값을 theta1으로 지정한다.\n",
        "s1 = np.sin(theta1)                   #이 theta1을 np.sin함수의 입력값에 넣은 것이 s1이다.\n",
        "theta2 = np.linspace(0, 2*np.pi, 100) + np.pi/2    #0도에서 360도(2파이)까지 균등하게 100개의 값에 90도(2분의 파이)를 더한 값을 theta2으로 지정한다.\n",
        "s2 = np.sin(theta2)   #dl theta2를 np.sin함수의 입력값에 넣은 것이 s2이다.\n",
        "\n",
        "plt.subplot(2, 1, 1) # (rows, columns, panel number)     #2행의 1열의 공간을 이용하는데 그 첫번재 공간에을 이용한다.\n",
        "plt.plot(theta1, s1, '.')                     #x축이 theta1, y축이 s1로 점으로 이 공간에 표시하라는 것이다.\n",
        "plt.subplot(2, 1, 2) # (rows, columns, panel number) #2행의 1열의 공간을 이용하는데 그 두번재 공간에을 이용한다.\n",
        "plt.plot(theta2, s2, '.')   #x축이 theta2, y축이 s2로 점으로 이 공간에 표시하라는 것이다."
      ],
      "execution_count": 11,
      "outputs": [
        {
          "output_type": "execute_result",
          "data": {
            "text/plain": [
              "[<matplotlib.lines.Line2D at 0x7f4c386cbd90>]"
            ]
          },
          "metadata": {},
          "execution_count": 11
        },
        {
          "output_type": "display_data",
          "data": {
            "text/plain": [
              "<Figure size 432x288 with 2 Axes>"
            ],
            "image/png": "[encoded data removed]"
          },
          "metadata": {
            "needs_background": "light"
          }
        }
      ]
    },
    {
      "cell_type": "code",
      "metadata": {
        "id": "TuH489v9BvQ7",
        "colab": {
          "base_uri": "https://localhost:8080/"
        },
        "outputId": "80f021a2-50ec-4eb5-aed7-4faf9a306496"
      },
      "source": [
        "np.corrcoef(s1,s2)    #s1,과 s2의 상관관계의 정도를 나타내라는 것으로 np.corrcoef함수가 이용되는데 이때 e-17승은 10의 -17승을 의미한다.\n",
        "                      #이때 2.419...e-17의 경우라면 0이기에 거의 상관이 없다는 것으로 알 수 있다 이 s1과 s2의 관계가.\n",
        "                      #이 상관관계 값의 절댓값이 1에 가까울 수록 두 수치의 높은 관련성을 지니고 있음을 알 수 있다."
      ],
      "execution_count": null,
      "outputs": [
        {
          "output_type": "execute_result",
          "data": {
            "text/plain": [
              "array([[1.00000000e+00, 2.41915449e-17],\n",
              "       [2.41915449e-17, 1.00000000e+00]])"
            ]
          },
          "metadata": {},
          "execution_count": 11
        }
      ]
    }
  ]
}