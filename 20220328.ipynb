{
  "cells": [
    {
      "cell_type": "markdown",
      "metadata": {
        "id": "view-in-github",
        "colab_type": "text"
      },
      "source": [
        "<a href=\"https://colab.research.google.com/github/sghwangbo/class2022Spring/blob/main/20220328.ipynb\" target=\"_parent\"><img src=\"https://colab.research.google.com/assets/colab-badge.svg\" alt=\"Open In Colab\"/></a>"
      ]
    },
    {
      "cell_type": "code",
      "execution_count": 66,
      "metadata": {
        "colab": {
          "base_uri": "https://localhost:8080/"
        },
        "id": "v2nBJ4DW7co0",
        "outputId": "114cb63f-0708-429a-db0b-02f01c89b6cf"
      },
      "outputs": [
        {
          "output_type": "stream",
          "name": "stdout",
          "text": [
            "Requirement already satisfied: gradio in /usr/local/lib/python3.7/dist-packages (2.9.1)\n",
            "Requirement already satisfied: matplotlib in /usr/local/lib/python3.7/dist-packages (from gradio) (3.2.2)\n",
            "Requirement already satisfied: fastapi in /usr/local/lib/python3.7/dist-packages (from gradio) (0.75.1)\n",
            "Requirement already satisfied: pandas in /usr/local/lib/python3.7/dist-packages (from gradio) (1.3.5)\n",
            "Requirement already satisfied: pycryptodome in /usr/local/lib/python3.7/dist-packages (from gradio) (3.14.1)\n",
            "Requirement already satisfied: analytics-python in /usr/local/lib/python3.7/dist-packages (from gradio) (1.4.0)\n",
            "Requirement already satisfied: numpy in /usr/local/lib/python3.7/dist-packages (from gradio) (1.21.5)\n",
            "Requirement already satisfied: pydub in /usr/local/lib/python3.7/dist-packages (from gradio) (0.25.1)\n",
            "Requirement already satisfied: paramiko in /usr/local/lib/python3.7/dist-packages (from gradio) (2.10.3)\n",
            "Requirement already satisfied: orjson in /usr/local/lib/python3.7/dist-packages (from gradio) (3.6.7)\n",
            "Requirement already satisfied: aiohttp in /usr/local/lib/python3.7/dist-packages (from gradio) (3.8.1)\n",
            "Requirement already satisfied: python-multipart in /usr/local/lib/python3.7/dist-packages (from gradio) (0.0.5)\n",
            "Requirement already satisfied: requests in /usr/local/lib/python3.7/dist-packages (from gradio) (2.23.0)\n",
            "Requirement already satisfied: markdown-it-py[linkify,plugins] in /usr/local/lib/python3.7/dist-packages (from gradio) (2.0.1)\n",
            "Requirement already satisfied: pillow in /usr/local/lib/python3.7/dist-packages (from gradio) (7.1.2)\n",
            "Requirement already satisfied: ffmpy in /usr/local/lib/python3.7/dist-packages (from gradio) (0.3.0)\n",
            "Requirement already satisfied: uvicorn in /usr/local/lib/python3.7/dist-packages (from gradio) (0.17.6)\n",
            "Requirement already satisfied: aiosignal>=1.1.2 in /usr/local/lib/python3.7/dist-packages (from aiohttp->gradio) (1.2.0)\n",
            "Requirement already satisfied: multidict<7.0,>=4.5 in /usr/local/lib/python3.7/dist-packages (from aiohttp->gradio) (6.0.2)\n",
            "Requirement already satisfied: attrs>=17.3.0 in /usr/local/lib/python3.7/dist-packages (from aiohttp->gradio) (21.4.0)\n",
            "Requirement already satisfied: frozenlist>=1.1.1 in /usr/local/lib/python3.7/dist-packages (from aiohttp->gradio) (1.3.0)\n",
            "Requirement already satisfied: async-timeout<5.0,>=4.0.0a3 in /usr/local/lib/python3.7/dist-packages (from aiohttp->gradio) (4.0.2)\n",
            "Requirement already satisfied: typing-extensions>=3.7.4 in /usr/local/lib/python3.7/dist-packages (from aiohttp->gradio) (3.10.0.2)\n",
            "Requirement already satisfied: charset-normalizer<3.0,>=2.0 in /usr/local/lib/python3.7/dist-packages (from aiohttp->gradio) (2.0.12)\n",
            "Requirement already satisfied: yarl<2.0,>=1.0 in /usr/local/lib/python3.7/dist-packages (from aiohttp->gradio) (1.7.2)\n",
            "Requirement already satisfied: asynctest==0.13.0 in /usr/local/lib/python3.7/dist-packages (from aiohttp->gradio) (0.13.0)\n",
            "Requirement already satisfied: idna>=2.0 in /usr/local/lib/python3.7/dist-packages (from yarl<2.0,>=1.0->aiohttp->gradio) (2.10)\n",
            "Requirement already satisfied: backoff==1.10.0 in /usr/local/lib/python3.7/dist-packages (from analytics-python->gradio) (1.10.0)\n",
            "Requirement already satisfied: monotonic>=1.5 in /usr/local/lib/python3.7/dist-packages (from analytics-python->gradio) (1.6)\n",
            "Requirement already satisfied: six>=1.5 in /usr/local/lib/python3.7/dist-packages (from analytics-python->gradio) (1.15.0)\n",
            "Requirement already satisfied: python-dateutil>2.1 in /usr/local/lib/python3.7/dist-packages (from analytics-python->gradio) (2.8.2)\n",
            "Requirement already satisfied: certifi>=2017.4.17 in /usr/local/lib/python3.7/dist-packages (from requests->gradio) (2021.10.8)\n",
            "Requirement already satisfied: urllib3!=1.25.0,!=1.25.1,<1.26,>=1.21.1 in /usr/local/lib/python3.7/dist-packages (from requests->gradio) (1.24.3)\n",
            "Requirement already satisfied: chardet<4,>=3.0.2 in /usr/local/lib/python3.7/dist-packages (from requests->gradio) (3.0.4)\n",
            "Requirement already satisfied: starlette==0.17.1 in /usr/local/lib/python3.7/dist-packages (from fastapi->gradio) (0.17.1)\n",
            "Requirement already satisfied: pydantic!=1.7,!=1.7.1,!=1.7.2,!=1.7.3,!=1.8,!=1.8.1,<2.0.0,>=1.6.2 in /usr/local/lib/python3.7/dist-packages (from fastapi->gradio) (1.9.0)\n",
            "Requirement already satisfied: anyio<4,>=3.0.0 in /usr/local/lib/python3.7/dist-packages (from starlette==0.17.1->fastapi->gradio) (3.5.0)\n",
            "Requirement already satisfied: sniffio>=1.1 in /usr/local/lib/python3.7/dist-packages (from anyio<4,>=3.0.0->starlette==0.17.1->fastapi->gradio) (1.2.0)\n",
            "Requirement already satisfied: mdurl~=0.1 in /usr/local/lib/python3.7/dist-packages (from markdown-it-py[linkify,plugins]->gradio) (0.1.0)\n",
            "Requirement already satisfied: mdit-py-plugins in /usr/local/lib/python3.7/dist-packages (from markdown-it-py[linkify,plugins]->gradio) (0.3.0)\n",
            "Requirement already satisfied: linkify-it-py~=1.0 in /usr/local/lib/python3.7/dist-packages (from markdown-it-py[linkify,plugins]->gradio) (1.0.3)\n",
            "Requirement already satisfied: uc-micro-py in /usr/local/lib/python3.7/dist-packages (from linkify-it-py~=1.0->markdown-it-py[linkify,plugins]->gradio) (1.0.1)\n",
            "Requirement already satisfied: kiwisolver>=1.0.1 in /usr/local/lib/python3.7/dist-packages (from matplotlib->gradio) (1.4.0)\n",
            "Requirement already satisfied: cycler>=0.10 in /usr/local/lib/python3.7/dist-packages (from matplotlib->gradio) (0.11.0)\n",
            "Requirement already satisfied: pyparsing!=2.0.4,!=2.1.2,!=2.1.6,>=2.0.1 in /usr/local/lib/python3.7/dist-packages (from matplotlib->gradio) (3.0.7)\n",
            "Requirement already satisfied: pytz>=2017.3 in /usr/local/lib/python3.7/dist-packages (from pandas->gradio) (2018.9)\n",
            "Requirement already satisfied: pynacl>=1.0.1 in /usr/local/lib/python3.7/dist-packages (from paramiko->gradio) (1.5.0)\n",
            "Requirement already satisfied: bcrypt>=3.1.3 in /usr/local/lib/python3.7/dist-packages (from paramiko->gradio) (3.2.0)\n",
            "Requirement already satisfied: cryptography>=2.5 in /usr/local/lib/python3.7/dist-packages (from paramiko->gradio) (36.0.2)\n",
            "Requirement already satisfied: cffi>=1.1 in /usr/local/lib/python3.7/dist-packages (from bcrypt>=3.1.3->paramiko->gradio) (1.15.0)\n",
            "Requirement already satisfied: pycparser in /usr/local/lib/python3.7/dist-packages (from cffi>=1.1->bcrypt>=3.1.3->paramiko->gradio) (2.21)\n",
            "Requirement already satisfied: asgiref>=3.4.0 in /usr/local/lib/python3.7/dist-packages (from uvicorn->gradio) (3.5.0)\n",
            "Requirement already satisfied: h11>=0.8 in /usr/local/lib/python3.7/dist-packages (from uvicorn->gradio) (0.13.0)\n",
            "Requirement already satisfied: click>=7.0 in /usr/local/lib/python3.7/dist-packages (from uvicorn->gradio) (7.1.2)\n"
          ]
        }
      ],
      "source": [
        "!pip install gradio\n",
        "import gradio as gr\n",
        "import requests\n",
        "import pandas as pd"
      ]
    },
    {
      "cell_type": "code",
      "execution_count": 67,
      "metadata": {
        "id": "7uikzKRCMj1Q"
      },
      "outputs": [],
      "source": [
        "URL = ('http://apis.data.go.kr/B550928/dissForecastInfoSvc/'\n",
        "'getDissForecastInfo?'\n",
        "'serviceKey=Vyva428I9Send9Xc1gG%2F3jPt%2BoCTOxb8Ve2rmhtAF9o4u3w%2FPhU1eYrbs0K%2F%2BLdAKBStjizxk4UHp7Onb%2BJD2A%3D%3D'\n",
        "'&numOfRows=10'\n",
        "'&pageNo=1'\n",
        "'&type=json'\n",
        "'&dissCd=1'\n",
        "'&znCd=26')\n",
        "response = requests.get(URL)"
      ]
    },
    {
      "cell_type": "code",
      "execution_count": 68,
      "metadata": {
        "colab": {
          "base_uri": "https://localhost:8080/"
        },
        "id": "OqJ7HYgfNRh9",
        "outputId": "595c5c44-5571-4171-ccc0-47d75b4a5a0d"
      },
      "outputs": [
        {
          "output_type": "execute_result",
          "data": {
            "text/plain": [
              "<Response [200]>"
            ]
          },
          "metadata": {},
          "execution_count": 68
        }
      ],
      "source": [
        "response"
      ]
    },
    {
      "cell_type": "code",
      "source": [
        "r = response.json()\n",
        "r"
      ],
      "metadata": {
        "colab": {
          "base_uri": "https://localhost:8080/"
        },
        "id": "hXDZnpNZZBBK",
        "outputId": "8f4d7b30-4f1a-406d-b21a-8b91144e4624"
      },
      "execution_count": 69,
      "outputs": [
        {
          "output_type": "execute_result",
          "data": {
            "text/plain": [
              "{'response': {'body': {'items': [{'cnt': 425,\n",
              "     'dissCd': '1',\n",
              "     'dissRiskXpln': '환기를 자주 시켜 깨끗한 환경을 유지하고, 외출 후에는 반드시 손을 씻는 등 평소 손 씻기를 생활화합니다.',\n",
              "     'dt': '20220404',\n",
              "     'lowrnkZnCd': '26110',\n",
              "     'risk': 1,\n",
              "     'znCd': '26'},\n",
              "    {'cnt': 1075,\n",
              "     'dissCd': '1',\n",
              "     'dissRiskXpln': '환기를 자주 시켜 깨끗한 환경을 유지하고, 외출 후에는 반드시 손을 씻는 등 평소 손 씻기를 생활화합니다.',\n",
              "     'dt': '20220404',\n",
              "     'lowrnkZnCd': '26140',\n",
              "     'risk': 1,\n",
              "     'znCd': '26'},\n",
              "    {'cnt': 869,\n",
              "     'dissCd': '1',\n",
              "     'dissRiskXpln': '환기를 자주 시켜 깨끗한 환경을 유지하고, 외출 후에는 반드시 손을 씻는 등 평소 손 씻기를 생활화합니다.',\n",
              "     'dt': '20220404',\n",
              "     'lowrnkZnCd': '26170',\n",
              "     'risk': 1,\n",
              "     'znCd': '26'},\n",
              "    {'cnt': 1197,\n",
              "     'dissCd': '1',\n",
              "     'dissRiskXpln': '환기를 자주 시켜 깨끗한 환경을 유지하고, 외출 후에는 반드시 손을 씻는 등 평소 손 씻기를 생활화합니다.',\n",
              "     'dt': '20220404',\n",
              "     'lowrnkZnCd': '26200',\n",
              "     'risk': 1,\n",
              "     'znCd': '26'},\n",
              "    {'cnt': 3587,\n",
              "     'dissCd': '1',\n",
              "     'dissRiskXpln': '환기를 자주 시켜 깨끗한 환경을 유지하고, 외출 후에는 반드시 손을 씻는 등 평소 손 씻기를 생활화합니다.',\n",
              "     'dt': '20220404',\n",
              "     'lowrnkZnCd': '26230',\n",
              "     'risk': 1,\n",
              "     'znCd': '26'},\n",
              "    {'cnt': 2559,\n",
              "     'dissCd': '1',\n",
              "     'dissRiskXpln': '환기를 자주 시켜 깨끗한 환경을 유지하고, 외출 후에는 반드시 손을 씻는 등 평소 손 씻기를 생활화합니다.',\n",
              "     'dt': '20220404',\n",
              "     'lowrnkZnCd': '26260',\n",
              "     'risk': 1,\n",
              "     'znCd': '26'},\n",
              "    {'cnt': 2638,\n",
              "     'dissCd': '1',\n",
              "     'dissRiskXpln': '환기를 자주 시켜 깨끗한 환경을 유지하고, 외출 후에는 반드시 손을 씻는 등 평소 손 씻기를 생활화합니다.',\n",
              "     'dt': '20220404',\n",
              "     'lowrnkZnCd': '26290',\n",
              "     'risk': 1,\n",
              "     'znCd': '26'},\n",
              "    {'cnt': 2860,\n",
              "     'dissCd': '1',\n",
              "     'dissRiskXpln': '환기를 자주 시켜 깨끗한 환경을 유지하고, 외출 후에는 반드시 손을 씻는 등 평소 손 씻기를 생활화합니다.',\n",
              "     'dt': '20220404',\n",
              "     'lowrnkZnCd': '26320',\n",
              "     'risk': 1,\n",
              "     'znCd': '26'},\n",
              "    {'cnt': 3840,\n",
              "     'dissCd': '1',\n",
              "     'dissRiskXpln': '환기를 자주 시켜 깨끗한 환경을 유지하고, 외출 후에는 반드시 손을 씻는 등 평소 손 씻기를 생활화합니다.',\n",
              "     'dt': '20220404',\n",
              "     'lowrnkZnCd': '26350',\n",
              "     'risk': 1,\n",
              "     'znCd': '26'},\n",
              "    {'cnt': 3155,\n",
              "     'dissCd': '1',\n",
              "     'dissRiskXpln': '환기를 자주 시켜 깨끗한 환경을 유지하고, 외출 후에는 반드시 손을 씻는 등 평소 손 씻기를 생활화합니다.',\n",
              "     'dt': '20220404',\n",
              "     'lowrnkZnCd': '26380',\n",
              "     'risk': 1,\n",
              "     'znCd': '26'}],\n",
              "   'numOfRows': 10,\n",
              "   'pageNo': 1,\n",
              "   'totalCount': 48},\n",
              "  'header': {'resultCode': 0, 'resultMsg': 'NORMAL_SERVICE', 'type': 'json'}}}"
            ]
          },
          "metadata": {},
          "execution_count": 69
        }
      ]
    },
    {
      "cell_type": "code",
      "source": [
        "items = r['response']['body']['items']\n",
        "items[0]"
      ],
      "metadata": {
        "colab": {
          "base_uri": "https://localhost:8080/"
        },
        "id": "Og7Ucd9ZrL0v",
        "outputId": "34748823-9918-4ccf-f016-d64c46c7e86a"
      },
      "execution_count": 70,
      "outputs": [
        {
          "output_type": "execute_result",
          "data": {
            "text/plain": [
              "{'cnt': 425,\n",
              " 'dissCd': '1',\n",
              " 'dissRiskXpln': '환기를 자주 시켜 깨끗한 환경을 유지하고, 외출 후에는 반드시 손을 씻는 등 평소 손 씻기를 생활화합니다.',\n",
              " 'dt': '20220404',\n",
              " 'lowrnkZnCd': '26110',\n",
              " 'risk': 1,\n",
              " 'znCd': '26'}"
            ]
          },
          "metadata": {},
          "execution_count": 70
        }
      ]
    },
    {
      "cell_type": "code",
      "execution_count": 72,
      "metadata": {
        "id": "Yv0-A2JYNUTa"
      },
      "outputs": [],
      "source": [
        "def test(dissCd) :\n",
        "  URL = ('http://apis.data.go.kr/B550928/dissForecastInfoSvc/'\n",
        "'getDissForecastInfo?'\n",
        "'serviceKey=Vyva428I9Send9Xc1gG%2F3jPt%2BoCTOxb8Ve2rmhtAF9o4u3w%2FPhU1eYrbs0K%2F%2BLdAKBStjizxk4UHp7Onb%2BJD2A%3D%3D'\n",
        "'&numOfRows=10'\n",
        "'&pageNo=1'\n",
        "'&type=json'\n",
        "'&dissCd='+dissCd+\n",
        "'&znCd=11')\n",
        "  \n",
        "  response = requests.get(URL)\n",
        "  r = response.json()\n",
        "  items = r['response']['body']['items']\n",
        "  \n",
        "  dissRiskXpln = [item['dissRiskXpln'] for item in items]\n",
        "  dt = [item['dt'] for item in items]\n",
        "  risk = [item['risk'] for item in items]\n",
        "  cnt = [item['cnt'] for item in items]\n",
        "\n",
        "  dissRiskXpln = pd.Series(dissRiskXpln)\n",
        "  dt = pd.Series(dt)\n",
        "  risk = pd.Series(risk)\n",
        "  cnt = pd.Series(cnt)\n",
        "  \n",
        "  df = pd.DataFrame({'질병위험도지침' : dissRiskXpln, '예측일자' : dt, '질병예측위험도' : risk, '질병예측진료건수' : cnt})\n",
        "  return df"
      ]
    },
    {
      "cell_type": "markdown",
      "source": [
        "**disscd(질병코드) 참고 **\n",
        "1 감기\n",
        "2 눈병\n",
        "3 식중독\n",
        "4 천식\n",
        "5 피부염"
      ],
      "metadata": {
        "id": "JTH9ZEiYVHS3"
      }
    },
    {
      "cell_type": "code",
      "execution_count": null,
      "metadata": {
        "colab": {
          "base_uri": "https://localhost:8080/",
          "height": 593
        },
        "id": "gdWEjZrJ5Wnk",
        "outputId": "62d30e8e-5bc9-46df-8b22-4c38accb69d3"
      },
      "outputs": [
        {
          "output_type": "stream",
          "name": "stdout",
          "text": [
            "Colab notebook detected. This cell will run indefinitely so that you can see errors and logs. To turn off, set debug=False in launch().\n",
            "Running on public URL: https://12298.gradio.app\n",
            "\n",
            "This share link expires in 72 hours. For free permanent hosting, check out Spaces (https://huggingface.co/spaces)\n"
          ]
        },
        {
          "output_type": "display_data",
          "data": {
            "text/plain": [
              "<IPython.lib.display.IFrame at 0x7ff7de661590>"
            ],
            "text/html": [
              "\n",
              "        <iframe\n",
              "            width=\"900\"\n",
              "            height=\"500\"\n",
              "            src=\"https://12298.gradio.app\"\n",
              "            frameborder=\"0\"\n",
              "            allowfullscreen\n",
              "        ></iframe>\n",
              "        "
            ]
          },
          "metadata": {}
        }
      ],
      "source": [
        "import gradio as gr\n",
        "\n",
        "iface = gr.Interface(test, gr.inputs.Dropdown(['1', '2', '3', '4', '5']), outputs=['dataframe'])\n",
        "iface.launch(debug=True)"
      ]
    }
  ],
  "metadata": {
    "colab": {
      "name": "Untitled5.ipynb",
      "provenance": [],
      "authorship_tag": "ABX9TyPa7zM6udQ7+1OY66eGyNcv",
      "include_colab_link": true
    },
    "kernelspec": {
      "display_name": "Python 3",
      "name": "python3"
    },
    "language_info": {
      "name": "python"
    }
  },
  "nbformat": 4,
  "nbformat_minor": 0
}