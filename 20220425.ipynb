{
  "nbformat": 4,
  "nbformat_minor": 0,
  "metadata": {
    "colab": {
      "name": "Untitled6.ipynb",
      "provenance": [],
      "authorship_tag": "ABX9TyNq/d0P9Ckhx+MfoKq5wZUn",
      "include_colab_link": true
    },
    "kernelspec": {
      "name": "python3",
      "display_name": "Python 3"
    },
    "language_info": {
      "name": "python"
    }
  },
  "cells": [
    {
      "cell_type": "markdown",
      "metadata": {
        "id": "view-in-github",
        "colab_type": "text"
      },
      "source": [
        "<a href=\"https://colab.research.google.com/github/sghwangbo/class2022Spring/blob/main/20220425.ipynb\" target=\"_parent\"><img src=\"https://colab.research.google.com/assets/colab-badge.svg\" alt=\"Open In Colab\"/></a>"
      ]
    },
    {
      "cell_type": "markdown",
      "source": [
        "**-auto correlation (자기 상관)**\n",
        "어떤 신호의 시간이동된 자기자신과의 상관성 정도\n",
        "자기상관함수의 경우 신호의 시변(time-variant)특성이 어떤가를 보여준다.\n",
        "시간적인 상관성 척도이다.\n",
        "시계열자료(time-series data)를 다루는 경우 항상 연속되는 오차항들이 서로 상관되어 있을 가능성이 존재한다. 어떤 특정 시점에서 해당 시점의 오차항은 해당 시점의 충격만이 아니라 과거로부터의 충격으로부터 이전된 영향들도 포함한다. 이러한 이전된 영향으로 인해서 해당 시점의 충격은 과거의 충격들과 상관될 것이며 이러한 상황은 오차항들이 상관을 낳게 되는데 이경우 자기상관이 존재한다고 한다. 자기상관은 '양의 자기상관'과 '음의 자기상관'이 존재할 수 있다.\n",
        "\n",
        "**-root mean square**\n",
        "수학에서 이는 제곱평균제곱근으로 불린다.\n",
        "줄임말은 rms로 평균값, 중앙값, 최빈값 등과 같이 어떤 집단의 특징이나 경향을 나타내는 대표값의 일종이다. \n",
        "원래의 값을 제곱한 값들의 평균값에 루트를 씌운 값을 계산하는 공식이기에 원래의 값의 평균값과 매우 유사한 성격의 값이라는 것을 알 수 있다."
      ],
      "metadata": {
        "id": "ivLPag3eaPZL"
      }
    }
  ]
}